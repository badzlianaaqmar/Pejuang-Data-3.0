{
  "nbformat": 4,
  "nbformat_minor": 0,
  "metadata": {
    "colab": {
      "name": "M2P1V2_Struktur_Data_List.ipynb",
      "provenance": [],
      "collapsed_sections": []
    },
    "kernelspec": {
      "name": "python3",
      "display_name": "Python 3"
    },
    "language_info": {
      "name": "python"
    }
  },
  "cells": [
    {
      "cell_type": "markdown",
      "metadata": {
        "id": "LzOd9ZK2jc6V"
      },
      "source": [
        "### List"
      ]
    },
    {
      "cell_type": "markdown",
      "metadata": {
        "id": "CxPir3wgjg-e"
      },
      "source": [
        "List adalah jenis kumpulan data terurut (ordered sequence), dan merupakan salah satu variabel yang sering digunakan pada Python. Serupa, namun tak sama dengan array pada bahasa pemrograman lainnya. Bedanya, elemen List pada Python tidak harus memiliki tipe data yang sama. Mendeklarasikan List cukup mudah dengan kurung siku dengan elemen yang dipisahkan dengan koma. \n",
        "\n",
        "Setiap data di dalamnya dapat diakses dengan indeks yang mulai dari 0"
      ]
    },
    {
      "cell_type": "code",
      "metadata": {
        "colab": {
          "base_uri": "https://localhost:8080/"
        },
        "id": "rjZ-Tz0HqNGs",
        "outputId": "82f61e1f-0eb0-4032-9c02-2071b3357988"
      },
      "source": [
        "#Contoh List \n",
        "L1 = [1, 4, 2, 13]\n",
        "\n",
        "print(type(L1))"
      ],
      "execution_count": 1,
      "outputs": [
        {
          "output_type": "stream",
          "name": "stdout",
          "text": [
            "<class 'list'>\n"
          ]
        }
      ]
    },
    {
      "cell_type": "code",
      "metadata": {
        "colab": {
          "base_uri": "https://localhost:8080/"
        },
        "id": "SehfgVn5qgux",
        "outputId": "5f9170af-6595-42b4-ddf8-15cabd3bec1a"
      },
      "source": [
        "L2 = [\"a\",\"Python\",3]\n",
        "L2 "
      ],
      "execution_count": null,
      "outputs": [
        {
          "output_type": "execute_result",
          "data": {
            "text/plain": [
              "['a', 'Python', 3]"
            ]
          },
          "metadata": {},
          "execution_count": 2
        }
      ]
    },
    {
      "cell_type": "code",
      "metadata": {
        "colab": {
          "base_uri": "https://localhost:8080/"
        },
        "id": "Gl-5N35Nqs2c",
        "outputId": "b17a9dbe-cbb9-43e4-9a79-a65fa1c0c67f"
      },
      "source": [
        "print(L1)\n",
        "print(L2)"
      ],
      "execution_count": null,
      "outputs": [
        {
          "output_type": "stream",
          "name": "stdout",
          "text": [
            "[1, 4, 2, 13]\n",
            "['a', 'Python', 3]\n"
          ]
        }
      ]
    },
    {
      "cell_type": "markdown",
      "metadata": {
        "id": "owp2ORcCq0H6"
      },
      "source": [
        "**Latihan 1**"
      ]
    },
    {
      "cell_type": "code",
      "metadata": {
        "colab": {
          "base_uri": "https://localhost:8080/"
        },
        "id": "4RmCXruSq6iy",
        "outputId": "8774b722-1cb5-4bf9-c2a9-c3d1d43940a5"
      },
      "source": [
        "#Buatlah List kalian sendiri\n",
        "L1 = [2, 4, 6, 8]\n",
        "\n",
        "print(type(L1))"
      ],
      "execution_count": 3,
      "outputs": [
        {
          "output_type": "stream",
          "name": "stdout",
          "text": [
            "<class 'list'>\n"
          ]
        }
      ]
    },
    {
      "cell_type": "code",
      "metadata": {
        "colab": {
          "base_uri": "https://localhost:8080/"
        },
        "id": "gDAuxKDTrbb2",
        "outputId": "e828169d-159a-40a9-d227-7b6c42c6e0bb"
      },
      "source": [
        "L2 = [\"B\",\"pejuang data\",5,4]\n",
        "L2 "
      ],
      "execution_count": null,
      "outputs": [
        {
          "output_type": "execute_result",
          "data": {
            "text/plain": [
              "['B', 'pejuang data', 5, 4]"
            ]
          },
          "metadata": {},
          "execution_count": 51
        }
      ]
    },
    {
      "cell_type": "code",
      "metadata": {
        "colab": {
          "base_uri": "https://localhost:8080/"
        },
        "id": "Hg-R2nBJsJ3z",
        "outputId": "7fe530a2-9f6f-4aaa-f67a-ec2f5383e281"
      },
      "source": [
        "print(L1)\n",
        "print(L2)"
      ],
      "execution_count": null,
      "outputs": [
        {
          "output_type": "stream",
          "name": "stdout",
          "text": [
            "[2, 4, 6, 8]\n",
            "['B', 'pejuang data', 5, 4]\n"
          ]
        }
      ]
    },
    {
      "cell_type": "markdown",
      "metadata": {
        "id": "ml_-idmHs5hk"
      },
      "source": [
        "Indeks di python(List, Tuple) mulai dari **0**"
      ]
    },
    {
      "cell_type": "code",
      "metadata": {
        "colab": {
          "base_uri": "https://localhost:8080/"
        },
        "id": "Fp1JuyzFtGfc",
        "outputId": "79e76f18-a349-41f8-ea97-b07d9a8a173f"
      },
      "source": [
        "#Sifat-sifat List \n",
        "\n",
        "#Terurut/Ordered\n",
        "print(\"Memanggil List L1 dengan indeks urutan:\", L1[0:3])\n",
        "\n",
        "#Bisa Diganti/Mutable \n",
        "L1[1] = 2\n",
        "print(\"List L1 setelah diganti elemennya:\", L1)\n",
        "\n",
        "L1 = [1, \"dua\", True, 2+3j]\n",
        "\n",
        "#Dapat Diindeks/slicing\n",
        "print(\"slicing List L1:\", L1[3])\n",
        "\n",
        "#Dapat Diijinkan Duplikasi\n",
        "L1 = [1, \"dua\", True, 2+3j, 2+3j]\n",
        "print(\"Duplikasi pada List L1:\", L1)"
      ],
      "execution_count": 2,
      "outputs": [
        {
          "output_type": "stream",
          "name": "stdout",
          "text": [
            "Memanggil List L1 dengan indeks urutan: [1, 4, 2]\n",
            "List L1 setelah diganti elemennya: [1, 2, 2, 13]\n",
            "slicing List L1: (2+3j)\n",
            "Duplikasi pada List L1: [1, 'dua', True, (2+3j), (2+3j)]\n"
          ]
        }
      ]
    },
    {
      "cell_type": "markdown",
      "metadata": {
        "id": "D6BDAqlkuqRb"
      },
      "source": [
        "**Latihan 2**"
      ]
    },
    {
      "cell_type": "code",
      "metadata": {
        "colab": {
          "base_uri": "https://localhost:8080/"
        },
        "id": "knpiQqamuvRz",
        "outputId": "4bcda533-cc0c-4551-f738-e7fd8636b7b0"
      },
      "source": [
        "#Ganti elemen yang ada pada List yang kalian buat \n",
        "#Untuk L1\n",
        "\n",
        "#Terurut/Oerdered\n",
        "print(\"Memanggil List L1 dengan indeks urutan:\", L1[0:3])\n",
        "\n",
        "#Bisa Diganti/Mutable\n",
        "L1[2] = 12\n",
        "print(\"List L1 Setelah diganti elemennya:\", L1)\n",
        "\n",
        "L1 = [6, \"empat\", False, 6+8j]\n",
        "\n",
        "#Dapat Diindeksi/Slicing\n",
        "print(\"slicing List L1:\", L1[0])\n",
        "\n",
        "#Dapat Diijinkan Duplikasi\n",
        "L1 = [6, \"empat\", False, 6+8j, 6+8j]\n",
        "print(\"Duplikasi pada List L1:\", L1)"
      ],
      "execution_count": 4,
      "outputs": [
        {
          "output_type": "stream",
          "name": "stdout",
          "text": [
            "Memanggil List L1 dengan indeks urutan: [2, 4, 6]\n",
            "List L1 Setelah diganti elemennya: [2, 4, 12, 8]\n",
            "slicing List L1: 6\n",
            "Duplikasi pada List L1: [6, 'empat', False, (6+8j), (6+8j)]\n"
          ]
        }
      ]
    },
    {
      "cell_type": "code",
      "metadata": {
        "colab": {
          "base_uri": "https://localhost:8080/"
        },
        "id": "PQG7Gjv2zJ5g",
        "outputId": "9d794b66-749d-4ca0-ef76-053008ee6dbb"
      },
      "source": [
        "#Ganti elemen yang ada pada List yang kalian buat \n",
        "#Untuk L2\n",
        "\n",
        "#Terurut/Ordered \n",
        "print(\"Memanggil List L2 dengan indeks urutan:\", L2[0:2])\n",
        "\n",
        "#Bisa Diganti/Mutable\n",
        "L2[1] = 18\n",
        "print(\"List L2 setelah diganti elemennya:\", L2)\n",
        "\n",
        "L2 = [8, \"enam\", False, 6+6j]\n",
        "\n",
        "#Dapat Diindeksi/Slicing\n",
        "print(\"slicing List L2:\", L2[1])\n",
        "\n",
        "#Dapat Diijinkan Duplikasi\n",
        "L2 = [8, \"enam\", False, False, 6+6j]\n",
        "print(\"Duplikasi pada List L2:\", L2)\n"
      ],
      "execution_count": null,
      "outputs": [
        {
          "output_type": "stream",
          "name": "stdout",
          "text": [
            "Memanggil List L2 dengan indeks urutan: ['B', 'pejuang data']\n",
            "List L2 setelah diganti elemennya: ['B', 18, 5, 4]\n",
            "slicing List L2: enam\n",
            "Duplikasi pada List L2: [8, 'enam', False, False, (6+6j)]\n"
          ]
        }
      ]
    }
  ]
}