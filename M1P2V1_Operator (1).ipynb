{
  "nbformat": 4,
  "nbformat_minor": 0,
  "metadata": {
    "colab": {
      "name": "M1P2V1_Operator.ipynb",
      "provenance": [],
      "collapsed_sections": []
    },
    "kernelspec": {
      "name": "python3",
      "display_name": "Python 3"
    },
    "language_info": {
      "name": "python"
    }
  },
  "cells": [
    {
      "cell_type": "markdown",
      "metadata": {
        "id": "82eZQkL0JriS"
      },
      "source": [
        "### Latihan operator 1"
      ]
    },
    {
      "cell_type": "code",
      "metadata": {
        "colab": {
          "base_uri": "https://localhost:8080/"
        },
        "id": "JZbaoLgbSMzd",
        "outputId": "e7e7e8f0-0dd7-41c4-a06c-b668f0eccbae"
      },
      "source": [
        "# Buatlah program penerapan operator aritmatika\n",
        "# dengan nilai nilai yang berbeda dari contoh diatas \n",
        "\n",
        "#Penjumlahan \n",
        "print('penjumlahan')\n",
        "print(10+5)\n",
        "#Pengurangan \n",
        "print('_'*20)\n",
        "print('pengurangan')\n",
        "print(25-5)\n",
        "#Perkalian\n",
        "print('_'*20)\n",
        "print('perkalian')\n",
        "print(50*2)\n",
        "#Pembagian\n",
        "print('_'*20)\n",
        "print('pembagian')\n",
        "print(100/4)\n",
        "#Modulus\n",
        "print('_'*20)\n",
        "print('modulus')\n",
        "print(5%2)\n",
        "#Perpangkatan\n",
        "print('_'*20)\n",
        "print('perpangkatan')\n",
        "print(3**4)\n",
        "#Pembagian Pembulatan Flooring \n",
        "print('_'*20)\n",
        "print('Pembagian Pembulatan Flooring')\n",
        "print(7//3)"
      ],
      "execution_count": 1,
      "outputs": [
        {
          "output_type": "stream",
          "name": "stdout",
          "text": [
            "penjumlahan\n",
            "15\n",
            "____________________\n",
            "pengurangan\n",
            "20\n",
            "____________________\n",
            "perkalian\n",
            "100\n",
            "____________________\n",
            "pembagian\n",
            "25.0\n",
            "____________________\n",
            "modulus\n",
            "1\n",
            "____________________\n",
            "perpangkatan\n",
            "81\n",
            "____________________\n",
            "Pembagian Pembulatan Flooring\n",
            "2\n"
          ]
        }
      ]
    },
    {
      "cell_type": "markdown",
      "metadata": {
        "id": "78leCaDzXE-B"
      },
      "source": [
        "### Latihan Operator 2"
      ]
    },
    {
      "cell_type": "code",
      "metadata": {
        "colab": {
          "base_uri": "https://localhost:8080/"
        },
        "id": "HtZvZuLVXLXd",
        "outputId": "74654d27-e265-48ef-81f2-2fd619406cda"
      },
      "source": [
        "# Buatlah program penerapan operator assignmet\n",
        "# dengan nilai nilai yang berbeda dari contoh di atas \n",
        "\n",
        "#Penjumlahan \n",
        "print('penjumlahan')\n",
        "x=15\n",
        "x=x+10\n",
        "print(x)\n",
        "x=10\n",
        "x+=5\n",
        "print(x)\n",
        "print('_'*20)\n",
        "\n",
        "#Pengurangan\n",
        "print('pengurangan')\n",
        "x=15\n",
        "x=x-10\n",
        "print(x)\n",
        "x=10\n",
        "x-=5\n",
        "print(x)\n",
        "print('_'*20)\n",
        "\n",
        "#Perkalian\n",
        "print('perkalian')\n",
        "x=15\n",
        "x=15*10\n",
        "print(x)\n",
        "x=10\n",
        "x*=5\n",
        "print(x)\n",
        "print('_'*20)\n",
        "\n",
        "#Pembagian \n",
        "print('pembagian')\n",
        "x=15\n",
        "x=x/10\n",
        "print(x)\n",
        "x=10\n",
        "x/=5\n",
        "print(x)\n",
        "print('_'*20)\n",
        "\n",
        "#Modulus \n",
        "print('modulus')\n",
        "x=15\n",
        "x=x%10\n",
        "print(x)\n",
        "x=10\n",
        "x%=5\n",
        "print(x)\n",
        "print('_'*20)\n",
        "\n",
        "#Perpangkatan\n",
        "print('perpangkatan')\n",
        "x=15\n",
        "x=x**10\n",
        "print(x)\n",
        "x=10\n",
        "x**=5\n",
        "print(x)\n",
        "print('_'*20)\n",
        "\n",
        "#Pembagian Flooring\n",
        "print('pembagian flooring')\n",
        "x=15\n",
        "x=x//10\n",
        "print(x)\n",
        "x=10\n",
        "x//=5\n",
        "print(x)\n",
        "print('_'*20)\n"
      ],
      "execution_count": 2,
      "outputs": [
        {
          "output_type": "stream",
          "name": "stdout",
          "text": [
            "penjumlahan\n",
            "25\n",
            "15\n",
            "____________________\n",
            "pengurangan\n",
            "5\n",
            "5\n",
            "____________________\n",
            "perkalian\n",
            "150\n",
            "50\n",
            "____________________\n",
            "pembagian\n",
            "1.5\n",
            "2.0\n",
            "____________________\n",
            "modulus\n",
            "5\n",
            "0\n",
            "____________________\n",
            "perpangkatan\n",
            "576650390625\n",
            "100000\n",
            "____________________\n",
            "pembagian flooring\n",
            "1\n",
            "2\n",
            "____________________\n"
          ]
        }
      ]
    },
    {
      "cell_type": "markdown",
      "metadata": {
        "id": "2rytySkAbS9b"
      },
      "source": [
        "### Latihan Operator 3"
      ]
    },
    {
      "cell_type": "code",
      "metadata": {
        "colab": {
          "base_uri": "https://localhost:8080/"
        },
        "id": "jbxW7QLXbaKF",
        "outputId": "81223957-712f-405f-aea9-39386b72b113"
      },
      "source": [
        "# Buatlah program penerapan operator pembanding \n",
        "# dengan nilai nilai yang berbeda dari di atas \n",
        "\n",
        "print(10==10)\n",
        "print(10!=10)\n",
        "print(10>20)\n",
        "print(10<15)\n",
        "print(12>=12)\n",
        "print(15<=10)"
      ],
      "execution_count": 3,
      "outputs": [
        {
          "output_type": "stream",
          "name": "stdout",
          "text": [
            "True\n",
            "False\n",
            "False\n",
            "True\n",
            "True\n",
            "False\n"
          ]
        }
      ]
    },
    {
      "cell_type": "markdown",
      "metadata": {
        "id": "JcOr39yEeCYE"
      },
      "source": [
        "### Latihan Operator 4"
      ]
    },
    {
      "cell_type": "code",
      "metadata": {
        "colab": {
          "base_uri": "https://localhost:8080/"
        },
        "id": "J-WJoYeJeI_D",
        "outputId": "8db4b504-2ab4-4787-abb0-d6b534b51550"
      },
      "source": [
        "# Buatlah program penerapan operator logika \n",
        "# dengan nilai nilai yang berbeda dari contoh di atas \n",
        "\n",
        "print(True and True)\n",
        "print(True or True)\n",
        "print(not True and False)"
      ],
      "execution_count": 14,
      "outputs": [
        {
          "output_type": "stream",
          "name": "stdout",
          "text": [
            "True\n",
            "True\n",
            "False\n"
          ]
        }
      ]
    },
    {
      "cell_type": "markdown",
      "metadata": {
        "id": "aBteFTTek_LI"
      },
      "source": [
        "### Latihan Operator 5"
      ]
    },
    {
      "cell_type": "code",
      "metadata": {
        "colab": {
          "base_uri": "https://localhost:8080/"
        },
        "id": "DdH_JXJUlHKu",
        "outputId": "0df32db6-de26-4825-b1fc-7c1a157d236c"
      },
      "source": [
        "# Buatlah program penerapan operator keanggotaan/membership\n",
        "# dengan nilai nilai yang berbeda dari contoh di atas \n",
        "\n",
        "a=(1,3,5,7,9)\n",
        "b=3\n",
        "\n",
        "print(b in a)\n",
        "\n",
        "print('_'*20)\n",
        "a=(2,4,6,8,10)\n",
        "b=8\n",
        "print(b not in a)"
      ],
      "execution_count": 16,
      "outputs": [
        {
          "output_type": "stream",
          "name": "stdout",
          "text": [
            "True\n",
            "____________________\n",
            "False\n"
          ]
        }
      ]
    }
  ]
}