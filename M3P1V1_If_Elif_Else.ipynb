{
  "nbformat": 4,
  "nbformat_minor": 0,
  "metadata": {
    "colab": {
      "name": "M3P1V1_If_Elif_Else.ipynb",
      "provenance": [],
      "collapsed_sections": []
    },
    "kernelspec": {
      "name": "python3",
      "display_name": "Python 3"
    },
    "language_info": {
      "name": "python"
    }
  },
  "cells": [
    {
      "cell_type": "markdown",
      "metadata": {
        "id": "i1rckFF-QVIU"
      },
      "source": [
        "###**Percabangan/Struktur Pemilihan**"
      ]
    },
    {
      "cell_type": "markdown",
      "metadata": {
        "id": "8yVDeBurAIon"
      },
      "source": [
        "Pada bagian ini, kamu akan membuat keputusan pada bahasa pemrograman Python menggunakan struktur percabangan atau juga sering disebut IF ELSE Statement. Pengambilan keputusan dibutuhkan ketika kamu akan mengeksekusi suatu kode jika sebuah kondisi tertentu dipenuhi.\n",
        "\n",
        "Statement  ```if .. elif ... else``` digunakan pada bahasa Python untuk pengambilan keputusan \n",
        "\n"
      ]
    },
    {
      "cell_type": "markdown",
      "metadata": {
        "id": "k0Mfk2qoBRTB"
      },
      "source": [
        "## IF Statements "
      ]
    },
    {
      "cell_type": "markdown",
      "metadata": {
        "id": "tLntSRVvBa4f"
      },
      "source": [
        "**Python IF Statements Syntax**"
      ]
    },
    {
      "cell_type": "code",
      "metadata": {
        "id": "oLHTkH_6hx-C"
      },
      "source": [
        "if test expression :\n",
        "   statement(s)"
      ],
      "execution_count": null,
      "outputs": []
    },
    {
      "cell_type": "markdown",
      "metadata": {
        "id": "f_sy6jKfHV-t"
      },
      "source": [
        "**Python IF Statement Flowchart** \n",
        "\n",
        "\n",
        "![Python_if_statement_flow_chart.jpg](data:image/jpeg;base64,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)"
      ]
    },
    {
      "cell_type": "markdown",
      "metadata": {
        "id": "WtcZB5zQHvLN"
      },
      "source": [
        "**Example: Python IF statement**"
      ]
    },
    {
      "cell_type": "code",
      "metadata": {
        "id": "cFCRNZfzJ2jc"
      },
      "source": [
        "# Jika angka adalah bilangan positif maka print \"adalah bilangan positif\"\n",
        "\n",
        "angka = 3\n",
        "if angka a > 0:\n",
        "    print(angka, \"adalah bilangan positif.\")\n",
        "print(\"Pernyataan ini selalu ditampilkan\")\n",
        "\n",
        "angka = -1\n",
        "if angka > 0\n",
        "    print(angka, \"adalah bilangan positif.\")\n",
        "print(\"Pernyataan ini juga selalu ditampilkan.\")"
      ],
      "execution_count": null,
      "outputs": []
    },
    {
      "cell_type": "markdown",
      "metadata": {
        "id": "Uv7VrGsCK5YZ"
      },
      "source": [
        "### IF ELSE Statements "
      ]
    },
    {
      "cell_type": "markdown",
      "metadata": {
        "id": "viaNKb3-LCsV"
      },
      "source": [
        "**Python IF ELSE Statement Syntax**"
      ]
    },
    {
      "cell_type": "code",
      "metadata": {
        "id": "ziFvm-wmUF7-"
      },
      "source": [
        "if test expression:\n",
        "    Body of if \n",
        "else \n",
        "    Body of else"
      ],
      "execution_count": null,
      "outputs": []
    },
    {
      "cell_type": "markdown",
      "metadata": {
        "id": "ZBCfzRd3LypK"
      },
      "source": [
        "**Python IF ELSE Statement Flowchart**\n",
        "\n",
        "![Python_if_else_statement-flow-chart.jpg](data:image/jpeg;base64,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)"
      ]
    },
    {
      "cell_type": "markdown",
      "metadata": {
        "id": "qcfXMXTyNkff"
      },
      "source": [
        "**Example: Python IF ELSE Statement**"
      ]
    },
    {
      "cell_type": "code",
      "metadata": {
        "colab": {
          "base_uri": "https://localhost:8080/"
        },
        "id": "0sJdx68HNuh7",
        "outputId": "ef2f1156-487e-4acb-cc31-e7a97fcab803"
      },
      "source": [
        "# Program disusun untuk mengecek apakah angka tersebut kurang dari 0 atau tidak \n",
        "# dan menampilkan tulisan yang sesuai \n",
        "\n",
        "a = 5\n",
        "b = 3\n",
        "\n",
        "if a>=b:\n",
        "    print(\"Bilangan lebih dari atau samadengan 0\")\n",
        "else: \n",
        "    print(\"Bilangan kurang dari 0\")"
      ],
      "execution_count": null,
      "outputs": [
        {
          "output_type": "stream",
          "name": "stdout",
          "text": [
            "Bilangan lebih dari atau samadengan 0\n"
          ]
        }
      ]
    },
    {
      "cell_type": "code",
      "metadata": {
        "colab": {
          "base_uri": "https://localhost:8080/"
        },
        "id": "WaCWZdUsPZn9",
        "outputId": "58e5828d-3677-4fe8-a12b-4b0aab8d6d58"
      },
      "source": [
        "# Program disusun untuk mengecek apakah dua buah angka sama atau tidak\n",
        "# dan menampilkan tulisan yang sesuai \n",
        "\n",
        "a = 5\n",
        "b = 5\n",
        "\n",
        "if a==b:\n",
        "    print(\"a dan b bernilai sama\")\n",
        "else: \n",
        "    print(\"a dan b bernilai berbeda\")\n",
        "    print(\"Belajar if Else\")"
      ],
      "execution_count": null,
      "outputs": [
        {
          "output_type": "stream",
          "name": "stdout",
          "text": [
            "a dan b bernilai sama\n"
          ]
        }
      ]
    },
    {
      "cell_type": "code",
      "metadata": {
        "colab": {
          "base_uri": "https://localhost:8080/"
        },
        "id": "28fokZAuQOWS",
        "outputId": "cbb1f851-5caf-45a5-9cff-4eb6252cb591"
      },
      "source": [
        "# Program disusun untuk mengecek apakah perbandingan dua buah angka\n",
        "# dan menampilkan tulisan yang sesuai \n",
        "\n",
        "# membaca dua angka \n",
        "bil1 = int(input(\"Masukkan bilangan pertama: \"))\n",
        "bil2 = int(input(\"Masukkan bilangan kedua: \"))\n",
        "\n",
        "# memilih bilangan yang lebih besar \n",
        "if bil1> bil2:\n",
        "    bil_lebih_besar = bil1\n",
        "else: \n",
        "    bil_lebih_besar = bil2\n",
        "\n",
        "# menampilkan hasil\n",
        "print(\"Bilangan yang lebih besar adalah:\", bil_lebih_besar)"
      ],
      "execution_count": null,
      "outputs": [
        {
          "output_type": "stream",
          "name": "stdout",
          "text": [
            "Masukkan bilangan pertama: 3\n",
            "Masukkan bilangan kedua: 5\n",
            "Bilangan yang lebih besar adalah: 5\n"
          ]
        }
      ]
    },
    {
      "cell_type": "markdown",
      "metadata": {
        "id": "q4_0dh6EULF_"
      },
      "source": [
        "### IF ELIF ELSE Statments"
      ]
    },
    {
      "cell_type": "markdown",
      "metadata": {
        "id": "31lNyATUUTTJ"
      },
      "source": [
        "**Python IF ELSE Statment Syntax**"
      ]
    },
    {
      "cell_type": "code",
      "metadata": {
        "id": "IGYYgL08ULQa"
      },
      "source": [
        "if test expression:\n",
        "    Body of if\n",
        "  elif test expression:\n",
        "    Body of elif\n",
        "  else :\n",
        "    Body of else "
      ],
      "execution_count": null,
      "outputs": []
    },
    {
      "cell_type": "markdown",
      "metadata": {
        "id": "7KC980lIVIIL"
      },
      "source": [
        "**Python IF ELSE Statement Flowchart**\n",
        "\n",
        "![Python_if_elif_else_statement-flow-chart.jpg](data:image/jpeg;base64,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)"
      ]
    },
    {
      "cell_type": "markdown",
      "metadata": {
        "id": "5Yubo7eDVt1k"
      },
      "source": [
        "**Example: Python IF ELIF Statement**"
      ]
    },
    {
      "cell_type": "code",
      "metadata": {
        "colab": {
          "base_uri": "https://localhost:8080/"
        },
        "id": "WfgQ2FNmV9ke",
        "outputId": "6fc41ca4-ca5d-41a3-9d6b-ddf2f69087be"
      },
      "source": [
        "# Program disusun untuk mengecek apakah angka merupakan bilangan positif, negatif atau nol\n",
        "# dan menampilkan yang sesuai \n",
        "\n",
        "angka = 3.4 \n",
        "\n",
        "if angka > 0:\n",
        "    print(\"Bilangan Positif\")\n",
        "elif num == 0:\n",
        "    print(\"Nol\")\n",
        "else: \n",
        "    print(\"Bilangan Negatif\")"
      ],
      "execution_count": null,
      "outputs": [
        {
          "output_type": "stream",
          "name": "stdout",
          "text": [
            "Bilangan Positif\n"
          ]
        }
      ]
    },
    {
      "cell_type": "code",
      "metadata": {
        "colab": {
          "base_uri": "https://localhost:8080/"
        },
        "id": "Q_Ga9BbnW06g",
        "outputId": "5e1ee15d-e852-4d5a-cbd2-d568a8f734ca"
      },
      "source": [
        "# Statement if \n",
        "x = 4\n",
        "if x % 2 == 0: # jika x dibagi 2 sisanya samadengan 0\n",
        "    print(\"x habis dibagi dua\")\n",
        "\n",
        "# Statement if ... elif ... else \n",
        "x = 7\n",
        "if x % 2 == 0: # jika x dibagi 2 sisanya samadengan 0\n",
        "    print(\"x habis dibagi dua\")\n",
        "elif x % 3 ==0: # jika x dibagi 3 sisanya samadengan 0\n",
        "    print(\"x habis dibagi tiga\")\n",
        "elif x % 5 ==0: # jika x dibagi 5 sisanya samadengan 0\n",
        "    print(\"x habis dibagi lima\")\n",
        "else:\n",
        "    print(\"x tidak habis dibagi dua, tiga ataupun lima\")"
      ],
      "execution_count": null,
      "outputs": [
        {
          "output_type": "stream",
          "name": "stdout",
          "text": [
            "x habis dibagi dua\n",
            "x tidak habis dibagi dua, tiga ataupun lima\n"
          ]
        }
      ]
    },
    {
      "cell_type": "markdown",
      "metadata": {
        "id": "CIgNMmYGZZg8"
      },
      "source": [
        "### Python Nested IF statements"
      ]
    },
    {
      "cell_type": "markdown",
      "metadata": {
        "id": "Y80eiNwAZmiT"
      },
      "source": [
        "**Example: Python NESTED IF Statement**"
      ]
    },
    {
      "cell_type": "code",
      "metadata": {
        "colab": {
          "base_uri": "https://localhost:8080/"
        },
        "id": "pL0wnCGXZvkB",
        "outputId": "aa4b5a0a-ddc6-40dd-ca06-5be028a86868"
      },
      "source": [
        "# Program disusun untuk mengecek apakah angka merupakan bilangan positif, negatif atau nol\n",
        "# dan menampilkan tulisan yang sesuai \n",
        "\n",
        "angka = float(input(\"Masukkan angka: \"))\n",
        "if angka >= 0:\n",
        "    if angka == 0:\n",
        "        print(\"Nol\")\n",
        "    else:\n",
        "        print(\"Bilangan Positif\")\n",
        "else:\n",
        "    print(\"Bilangan Negatif\")"
      ],
      "execution_count": null,
      "outputs": [
        {
          "output_type": "stream",
          "name": "stdout",
          "text": [
            "Masukkan angka: 4\n",
            "Bilangan Positif\n"
          ]
        }
      ]
    },
    {
      "cell_type": "markdown",
      "metadata": {
        "id": "Ok3XwzDSbesv"
      },
      "source": [
        "### Latihan"
      ]
    },
    {
      "cell_type": "markdown",
      "metadata": {
        "id": "fiYYTi4FeBTM"
      },
      "source": [
        "Buatlah sebuah fungsi \"Mahal_Diskon\" dengan ketentuan:\n",
        "\n",
        "\n",
        "\n",
        "*   Input berupa data harga produk dengan tipe numerik tunggal\n",
        "*   Kategori Input adalah \"Murah\" dan \"Mahal\", kemudian diskon ada 3 kategori \"10%\", \"20\", dan \"40%\"\n",
        "* Output Pertama sebuah teks/string yang menyatakan \"Mahal\" atau \"Murah\" dan Keterangan \"Kamu Dapat Diskon...\" \n",
        "* Output Kedua adalah harga yang perlu dibayarkan \n",
        "\n",
        "\n",
        "\n"
      ]
    },
    {
      "cell_type": "code",
      "metadata": {
        "id": "_KtDSfSZfOQj"
      },
      "source": [
        "# Ketikan Codingan anda"
      ],
      "execution_count": null,
      "outputs": []
    },
    {
      "cell_type": "code",
      "metadata": {
        "colab": {
          "base_uri": "https://localhost:8080/"
        },
        "id": "C5B1QZH3GgBZ",
        "outputId": "c2fb5ffe-bafc-49c7-8c5d-e842caab76e0"
      },
      "source": [
        "harga = float(input(\"harga: \"))\n",
        "if harga >= 500000:\n",
        "    print(\"mahal\")\n",
        "else:\n",
        "    print(\"murah\")\n",
        "\n",
        "harga = float(input(\"harga: \"))\n",
        "if harga >= 400000:\n",
        "  print(\"kamu mendapat diskon 10%\")\n",
        "elif harga <= 500000:\n",
        "  print(\"kamu mendapat diskon 20%\")\n",
        "elif harga >= 600000:\n",
        "  print(\"kamu mendapat diskon 40%\")\n",
        "else:\n",
        "  print(\"kamu tidak mendapat persen\")\n",
        "\n",
        "harga = float(input(\"harga: \"))\n",
        "if harga >= 400000:\n",
        "  print(\"kamu harus membayar:\", harga-harga*10/100)\n",
        "elif harga <= 500000:\n",
        "  print(\"kamu harus membayar:\", harga-harga*20/100)\n",
        "elif harga >= 600000:\n",
        "  print(\"kamu harus membayar:\", harga-harga*40/100)\n",
        "else:\n",
        "  print(\"kamu tidak mendapat diskon\")"
      ],
      "execution_count": 7,
      "outputs": [
        {
          "output_type": "stream",
          "name": "stdout",
          "text": [
            "harga: 350000\n",
            "murah\n",
            "harga: 350000\n",
            "kamu mendapat diskon 20%\n",
            "harga: 350000\n",
            "kamu harus membayar: 280000.0\n"
          ]
        }
      ]
    }
  ]
}