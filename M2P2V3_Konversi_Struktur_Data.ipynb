{
  "nbformat": 4,
  "nbformat_minor": 0,
  "metadata": {
    "colab": {
      "name": "M2P2V3_Konversi Struktur Data.ipynb",
      "provenance": [],
      "collapsed_sections": []
    },
    "kernelspec": {
      "name": "python3",
      "display_name": "Python 3"
    },
    "language_info": {
      "name": "python"
    }
  },
  "cells": [
    {
      "cell_type": "markdown",
      "metadata": {
        "id": "jYOrQ8pf1Acp"
      },
      "source": [
        "# Konversi Struktur Data"
      ]
    },
    {
      "cell_type": "markdown",
      "metadata": {
        "id": "jxLf_Rkm1I1a"
      },
      "source": [
        "Fungsi untuk mengubah/konversi struktur data:\n",
        "\n",
        "a. ``` list () ``` : untuk mengubah menjadi list \n",
        "\n",
        "b. ```tuple()``` : untuk mengubah menjadi tuple \n",
        "\n",
        "c. ```set()``` : untuk mengubah menjadi set \n",
        "\n",
        "d. ```dict()``` : untuk mengubah menjadi dictionary "
      ]
    },
    {
      "cell_type": "markdown",
      "metadata": {
        "id": "Yl8yPG_c2r9g"
      },
      "source": [
        "### Mengkonversi tipe data list"
      ]
    },
    {
      "cell_type": "code",
      "metadata": {
        "id": "Kyd0dOb3yY_w"
      },
      "source": [
        "# membuat 2 list \n",
        "L1 = [1, 2, 3, 4]\n",
        "L2 = [5, 6, 7, 8]"
      ],
      "execution_count": 2,
      "outputs": []
    },
    {
      "cell_type": "code",
      "metadata": {
        "colab": {
          "base_uri": "https://localhost:8080/"
        },
        "id": "_A9ave3c3I5q",
        "outputId": "a75889e9-74ab-4d96-a052-6b8c2f008088"
      },
      "source": [
        "# Mengkonversi struktur data list \n",
        "k_tuple = tuple(L1)\n",
        "k_set = set(L2)\n",
        "k_dict = dict(zip(L1, L2))\n",
        "#Melihat data yang telah dikonversi\n",
        "print(k_tuple)\n",
        "print(k_set)\n",
        "print(k_dict)"
      ],
      "execution_count": 3,
      "outputs": [
        {
          "output_type": "stream",
          "name": "stdout",
          "text": [
            "(1, 2, 3, 4)\n",
            "{8, 5, 6, 7}\n",
            "{1: 5, 2: 6, 3: 7, 4: 8}\n"
          ]
        }
      ]
    },
    {
      "cell_type": "markdown",
      "metadata": {
        "id": "H_8efXrL3rHH"
      },
      "source": [
        "### Mengkonversi tipe data tuple "
      ]
    },
    {
      "cell_type": "code",
      "metadata": {
        "id": "8FMI-NER3w40"
      },
      "source": [
        "# Membuat data tuple\n",
        "T1 = (1, 2, 3, 4)\n",
        "T2 = (5, 6, 7, 8)"
      ],
      "execution_count": null,
      "outputs": []
    },
    {
      "cell_type": "code",
      "metadata": {
        "colab": {
          "base_uri": "https://localhost:8080/"
        },
        "id": "0YGcU3gw386O",
        "outputId": "fd995eee-bcf9-430f-d0d0-66e0336ad48e"
      },
      "source": [
        "#Mengkonversi struktur data tuple \n",
        "k_list = list(T1)\n",
        "k_set = set(T2)\n",
        "k_dict = dict(zip(T1, T2))\n",
        "#Melihat data yang telah dikonversi \n",
        "print(k_list)\n",
        "print(k_set)\n",
        "print(k_dict)"
      ],
      "execution_count": null,
      "outputs": [
        {
          "output_type": "stream",
          "name": "stdout",
          "text": [
            "[1, 2, 3, 4]\n",
            "{8, 5, 6, 7}\n",
            "{1: 5, 2: 6, 3: 7, 4: 8}\n"
          ]
        }
      ]
    },
    {
      "cell_type": "markdown",
      "metadata": {
        "id": "G_bRel234Zxj"
      },
      "source": [
        "### Mengkonversi tipe data set"
      ]
    },
    {
      "cell_type": "code",
      "metadata": {
        "id": "WmXUU-Qj4eO3"
      },
      "source": [
        "# Membuat dua set \n",
        "S1 = {1, 2, 3, 4}\n",
        "S2 = {5, 6, 7, 8}"
      ],
      "execution_count": null,
      "outputs": []
    },
    {
      "cell_type": "code",
      "metadata": {
        "colab": {
          "base_uri": "https://localhost:8080/"
        },
        "id": "b6KOzDEa4q56",
        "outputId": "b8c2baa9-579b-4fa4-e1ed-be59c2940c73"
      },
      "source": [
        "# Mengkonversi struktur data set \n",
        "k_list = list(S1)\n",
        "k_tuple = tuple(S2)\n",
        "k_dict = dict(zip(S1, S2))\n",
        "#Melihat data yang telah dikonversi \n",
        "print(k_list)\n",
        "print(k_tuple)\n",
        "print(k_dict)"
      ],
      "execution_count": null,
      "outputs": [
        {
          "output_type": "stream",
          "name": "stdout",
          "text": [
            "[1, 2, 3, 4]\n",
            "(8, 5, 6, 7)\n",
            "{1: 8, 2: 5, 3: 6, 4: 7}\n"
          ]
        }
      ]
    },
    {
      "cell_type": "markdown",
      "metadata": {
        "id": "pL0W6rX_5Lav"
      },
      "source": [
        "### Mengkonversi tipe data list "
      ]
    },
    {
      "cell_type": "code",
      "metadata": {
        "id": "5rKETQ465RW6"
      },
      "source": [
        "# membuat dictionary \n",
        "D = {\n",
        "    \"nama\": \"Andi\",\n",
        "     \"alamat\": \"Yogyakarta\",\n",
        "     \"umur\": 20\n",
        "}"
      ],
      "execution_count": null,
      "outputs": []
    },
    {
      "cell_type": "code",
      "metadata": {
        "colab": {
          "base_uri": "https://localhost:8080/"
        },
        "id": "T2PWMA6F5n_x",
        "outputId": "8237286d-f38c-4021-8855-876a7b022821"
      },
      "source": [
        "# Mengkonversi struktur data dictionary dari key dan value-nya \n",
        "k_list = list(D.keys())\n",
        "k_tuple = tuple(D.values())\n",
        "k_set = set(D.keys())\n",
        "# Melihat data yang telah dikonversi \n",
        "print(k_list)\n",
        "print(k_tuple)\n",
        "print(k_set)\n"
      ],
      "execution_count": null,
      "outputs": [
        {
          "output_type": "stream",
          "name": "stdout",
          "text": [
            "['nama', 'alamat', 'umur']\n",
            "('Andi', 'Yogyakarta', 20)\n",
            "{'umur', 'alamat', 'nama'}\n"
          ]
        }
      ]
    },
    {
      "cell_type": "markdown",
      "metadata": {
        "id": "oM26Ti8H6Q26"
      },
      "source": [
        "### Latihan "
      ]
    },
    {
      "cell_type": "code",
      "metadata": {
        "id": "v1S1Ifzb6UBV"
      },
      "source": [
        "# Lakukan konversi struktur data yang kalian buat pada notebook-notebook \n",
        "# sebelumnya menjadi list, tuple, set, dan dictionary (masing-masing satu)"
      ],
      "execution_count": null,
      "outputs": []
    },
    {
      "cell_type": "markdown",
      "metadata": {
        "id": "RXnTBn9_-_qZ"
      },
      "source": [
        "### Mengkonversi tipe  data list "
      ]
    },
    {
      "cell_type": "code",
      "metadata": {
        "id": "dNceyp2L_HPB"
      },
      "source": [
        "L3 = [11, 13, 17, 19, 23]\n",
        "L4 = [2, 3, 5, 7, \"bilangan prima\"]"
      ],
      "execution_count": 6,
      "outputs": []
    },
    {
      "cell_type": "code",
      "metadata": {
        "colab": {
          "base_uri": "https://localhost:8080/"
        },
        "id": "3JOA7_B-nWMl",
        "outputId": "78080e36-df6f-4094-abf9-5950097603c6"
      },
      "source": [
        "# Mengkonversi struktur data list \n",
        "k_tuple = tuple(L3)\n",
        "k_set = set(L4)\n",
        "k_dict = dict(zip(L3, L4))\n",
        "#Melihat data yang telah dikonversi\n",
        "print(k_tuple)\n",
        "print(k_set)\n",
        "print(k_dict)"
      ],
      "execution_count": 7,
      "outputs": [
        {
          "output_type": "stream",
          "name": "stdout",
          "text": [
            "(11, 13, 17, 19, 23)\n",
            "{2, 3, 5, 7, 'bilangan prima'}\n",
            "{11: 2, 13: 3, 17: 5, 19: 7, 23: 'bilangan prima'}\n"
          ]
        }
      ]
    },
    {
      "cell_type": "markdown",
      "metadata": {
        "id": "H-jGsNnfoGRC"
      },
      "source": [
        "### Mengkonversi tipe data tuple "
      ]
    },
    {
      "cell_type": "code",
      "metadata": {
        "id": "IOuEQafzoMfg"
      },
      "source": [
        "T3 = (1, 4, 9, 25, 36, \"Bilangan kuadrat\")\n",
        "T4 = (2, 4, 6, 8, 10, 12, \"Bilangan genap\")"
      ],
      "execution_count": 10,
      "outputs": []
    },
    {
      "cell_type": "code",
      "metadata": {
        "colab": {
          "base_uri": "https://localhost:8080/"
        },
        "id": "R-2i-qMwo76A",
        "outputId": "6e9544f7-fb13-4e84-962d-9e248d88743d"
      },
      "source": [
        "# Mengkonversi struktur data tuple \n",
        "k_list = list(T3)\n",
        "k_set = set(T4)\n",
        "k_dict = dict(zip(T3, T4))\n",
        "\n",
        "#Melihat data yang telah dikonversi \n",
        "print(k_list)\n",
        "print(k_set)\n",
        "print(k_dict)"
      ],
      "execution_count": 11,
      "outputs": [
        {
          "output_type": "stream",
          "name": "stdout",
          "text": [
            "[1, 4, 9, 25, 36, 'Bilangan kuadrat']\n",
            "{2, 4, 6, 8, 10, 12, 'Bilangan genap'}\n",
            "{1: 2, 4: 4, 9: 6, 25: 8, 36: 10, 'Bilangan kuadrat': 12}\n"
          ]
        }
      ]
    },
    {
      "cell_type": "markdown",
      "metadata": {
        "id": "zKnCMAMSppl_"
      },
      "source": [
        "### Mengkonversi tipe data set"
      ]
    },
    {
      "cell_type": "code",
      "metadata": {
        "id": "xyKnzSrlpvTt"
      },
      "source": [
        "S3 = {6, 12, 18, 24, 30, 36}\n",
        "S4 = {2.4, 3.4, 8+8j, 2+8j, \"Matematika\"}"
      ],
      "execution_count": 13,
      "outputs": []
    },
    {
      "cell_type": "code",
      "metadata": {
        "colab": {
          "base_uri": "https://localhost:8080/"
        },
        "id": "lsNyTNHoquYv",
        "outputId": "16486914-40e4-48f3-b239-a6a539d618fa"
      },
      "source": [
        "# Mengkonversi struktur data set \n",
        "k_list = list(S3)\n",
        "k_tuple = tuple(S4)\n",
        "k_dict = dict(zip(S3, S4))\n",
        "# Melihat data yang telah dikonversi \n",
        "print(k_list)\n",
        "print(k_tuple)\n",
        "print(k_dict)"
      ],
      "execution_count": 14,
      "outputs": [
        {
          "output_type": "stream",
          "name": "stdout",
          "text": [
            "[36, 6, 12, 18, 24, 30]\n",
            "((8+8j), 2.4, 3.4, 'Matematika', (2+8j))\n",
            "{36: (8+8j), 6: 2.4, 12: 3.4, 18: 'Matematika', 24: (2+8j)}\n"
          ]
        }
      ]
    },
    {
      "cell_type": "markdown",
      "metadata": {
        "id": "T-U4mroHrmpy"
      },
      "source": [
        "### Mengkonversi tipe data list"
      ]
    },
    {
      "cell_type": "code",
      "metadata": {
        "id": "_TSn17ZYrsGe"
      },
      "source": [
        "# Membuat dictionary \n",
        "D1 = {\n",
        "    \"nama\": \"Bulan\",\n",
        "    \"jurusan\": \"Matematika\",\n",
        "    \"fakultas\": \"fakultas sains dan teknologi terapan\",\n",
        "    \"kampus\": \"UAD\"\n",
        "}"
      ],
      "execution_count": 18,
      "outputs": []
    },
    {
      "cell_type": "code",
      "metadata": {
        "colab": {
          "base_uri": "https://localhost:8080/"
        },
        "id": "keV0NdT4s47R",
        "outputId": "06bb1cd4-ac34-49d9-ce95-2a26570d868f"
      },
      "source": [
        "# Mengkonversi struktur data dictionary dari key dan value-nya\n",
        "k_list = list(D1.keys())\n",
        "k_tuple = tuple(D1.values())\n",
        "k_set = set(D1.keys())\n",
        "# melihat data yang telah konversi \n",
        "print(k_list)\n",
        "print(k_tuple)\n",
        "print(k_set)"
      ],
      "execution_count": 19,
      "outputs": [
        {
          "output_type": "stream",
          "name": "stdout",
          "text": [
            "['nama', 'jurusan', 'fakultas', 'kampus']\n",
            "('Bulan', 'Matematika', 'fakultas sains dan teknologi terapan', 'UAD')\n",
            "{'jurusan', 'nama', 'kampus', 'fakultas'}\n"
          ]
        }
      ]
    }
  ]
}