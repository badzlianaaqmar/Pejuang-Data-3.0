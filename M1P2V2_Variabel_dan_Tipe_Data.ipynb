{
  "nbformat": 4,
  "nbformat_minor": 0,
  "metadata": {
    "colab": {
      "name": "M1P2V2_Variabel_dan_Tipe_Data.ipynb",
      "provenance": [],
      "collapsed_sections": []
    },
    "kernelspec": {
      "name": "python3",
      "display_name": "Python 3"
    },
    "language_info": {
      "name": "python"
    }
  },
  "cells": [
    {
      "cell_type": "markdown",
      "metadata": {
        "id": "YQpkFT_8oqtP"
      },
      "source": [
        "### Latihan 1"
      ]
    },
    {
      "cell_type": "code",
      "metadata": {
        "id": "mC0PUg66owkq"
      },
      "source": [
        "# buatlah 5 variabel kalian sendiri dengan 5 macam tipe data\n",
        "# lalu tampilkan variabel menggunakan fungsi print\n",
        "\n",
        "kalimat = 'mari bersama belajar python'\n",
        "bilangan1 = 8\n",
        "bilangan2 = 4.5\n",
        "bilangan3 = False \n",
        "bilangan4 = 6j + 8"
      ],
      "execution_count": 7,
      "outputs": []
    },
    {
      "cell_type": "code",
      "metadata": {
        "colab": {
          "base_uri": "https://localhost:8080/"
        },
        "id": "tjEMeTBYy0GV",
        "outputId": "93ee1ca0-0ba2-47c2-e955-57bff091304e"
      },
      "source": [
        "print(kalimat)\n",
        "print(bilangan1)\n",
        "print(bilangan2)\n",
        "print(bilangan3)\n",
        "print(bilangan4)"
      ],
      "execution_count": 10,
      "outputs": [
        {
          "output_type": "stream",
          "name": "stdout",
          "text": [
            "mari bersama belajar python\n",
            "8\n",
            "4.5\n",
            "False\n",
            "(8+6j)\n"
          ]
        }
      ]
    },
    {
      "cell_type": "markdown",
      "metadata": {
        "id": "uqVP3_Diydl0"
      },
      "source": [
        "### Latihan 2"
      ]
    },
    {
      "cell_type": "code",
      "metadata": {
        "colab": {
          "base_uri": "https://localhost:8080/"
        },
        "id": "u9OGYDxNwFD9",
        "outputId": "17e70435-9881-47ae-bbc4-dbec87bb3911"
      },
      "source": [
        "print(type(kalimat))\n",
        "print(type(bilangan1))\n",
        "print(type(bilangan2))\n",
        "print(type(bilangan3))\n",
        "print(type(bilangan4))"
      ],
      "execution_count": 11,
      "outputs": [
        {
          "output_type": "stream",
          "name": "stdout",
          "text": [
            "<class 'str'>\n",
            "<class 'int'>\n",
            "<class 'float'>\n",
            "<class 'bool'>\n",
            "<class 'complex'>\n"
          ]
        }
      ]
    },
    {
      "cell_type": "markdown",
      "metadata": {
        "id": "50Fh2qL6yA3Y"
      },
      "source": [
        "### Latihan 3"
      ]
    },
    {
      "cell_type": "code",
      "metadata": {
        "colab": {
          "base_uri": "https://localhost:8080/"
        },
        "id": "pjtlmK2SyC-9",
        "outputId": "caf0a7d7-e290-41c3-cdff-f9709a2a262a"
      },
      "source": [
        "# konversi tipe data integer \n",
        "\n",
        "print(int(bilangan1))\n",
        "print(int(bilangan2))\n",
        "print(int(bilangan3))"
      ],
      "execution_count": 17,
      "outputs": [
        {
          "output_type": "stream",
          "name": "stdout",
          "text": [
            "8\n",
            "4\n",
            "0\n"
          ]
        }
      ]
    },
    {
      "cell_type": "code",
      "metadata": {
        "colab": {
          "base_uri": "https://localhost:8080/"
        },
        "id": "2mSEChbN1T9C",
        "outputId": "0f7868fd-57d6-411f-d895-ddb507e2bbb9"
      },
      "source": [
        "# konversi tipe data float\n",
        "\n",
        "print(float(bilangan1))\n",
        "print(float(bilangan2))\n",
        "print(float(bilangan3))"
      ],
      "execution_count": 23,
      "outputs": [
        {
          "output_type": "stream",
          "name": "stdout",
          "text": [
            "8.0\n",
            "4.5\n",
            "0.0\n"
          ]
        }
      ]
    },
    {
      "cell_type": "code",
      "metadata": {
        "colab": {
          "base_uri": "https://localhost:8080/"
        },
        "id": "AHqoe-zW1uct",
        "outputId": "8a77d128-c033-4bb8-a157-34bda39942eb"
      },
      "source": [
        "# konversi tipe data string\n",
        "\n",
        "print(str(kalimat))\n",
        "print(str(bilangan1))\n",
        "print(str(bilangan2))\n",
        "print(str(bilangan3))\n",
        "print(str(bilangan4))"
      ],
      "execution_count": 28,
      "outputs": [
        {
          "output_type": "stream",
          "name": "stdout",
          "text": [
            "mari bersama belajar python\n",
            "8\n",
            "4.5\n",
            "False\n",
            "(8+6j)\n"
          ]
        }
      ]
    },
    {
      "cell_type": "code",
      "metadata": {
        "colab": {
          "base_uri": "https://localhost:8080/"
        },
        "id": "XBxj9sGp2JAj",
        "outputId": "51e9fc3c-1c8a-49db-e2e4-bdcd3218f367"
      },
      "source": [
        "# konversi tipe data boolean \n",
        "\n",
        "print(bool(kalimat))\n",
        "print(bool(bilangan1))\n",
        "print(bool(bilangan2))\n",
        "print(bool(bilangan3))\n",
        "print(bool(bilangan4))"
      ],
      "execution_count": 33,
      "outputs": [
        {
          "output_type": "stream",
          "name": "stdout",
          "text": [
            "True\n",
            "True\n",
            "True\n",
            "False\n",
            "True\n"
          ]
        }
      ]
    },
    {
      "cell_type": "code",
      "metadata": {
        "colab": {
          "base_uri": "https://localhost:8080/"
        },
        "id": "QbPgXg5G2gSk",
        "outputId": "3d8fa3f1-cfe6-462c-a105-9042cdbb1c8e"
      },
      "source": [
        "# konversi tipe data complex \n",
        "\n",
        "print(complex(bilangan1))\n",
        "print(complex(bilangan2))\n",
        "print(complex(bilangan3))\n",
        "print(complex(bilangan4))"
      ],
      "execution_count": 45,
      "outputs": [
        {
          "output_type": "stream",
          "name": "stdout",
          "text": [
            "(8+0j)\n",
            "(4.5+0j)\n",
            "0j\n",
            "(8+6j)\n"
          ]
        }
      ]
    }
  ]
}