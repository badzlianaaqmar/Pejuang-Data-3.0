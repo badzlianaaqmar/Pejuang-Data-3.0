{
  "nbformat": 4,
  "nbformat_minor": 0,
  "metadata": {
    "colab": {
      "name": "M1P1V2_Pengenalan_Python",
      "provenance": [],
      "collapsed_sections": []
    },
    "kernelspec": {
      "name": "python3",
      "display_name": "Python 3"
    },
    "language_info": {
      "name": "python"
    }
  },
  "cells": [
    {
      "cell_type": "markdown",
      "metadata": {
        "id": "76jMxvZpfD86"
      },
      "source": [
        "# Pengenalan Python \n"
      ]
    },
    {
      "cell_type": "markdown",
      "metadata": {
        "id": "BcBAUfQ7fLHm"
      },
      "source": [
        "Python adalah Bahasa Pemrograman tingkat tinggi dengan dynamic semantics, bersifat object oriented, dan interpretatif. Bahasa pemrograman ini fokus dikembangkan pada keterbacaan bahasa pemrograman. \n",
        "1.   **Bahasa Pemrograman Tingkat (High Level Pemrogramming)** Artinya saintaks kode lebih mudah ditafsirkan oleh manusia.\n",
        "2.   **Interpretatif** Ini artinya bahasa ini memerlukan intrepeter atau penerjemah. Ini memungkinkan bagi kita untuk menggunakan Bahasa yang lebih mudah kita pahami.\n",
        "3. **Object Oriented** Ini berarti bahwa bahasa pemrograman ini berorientasi kepada objek. Hal ini membuat Python lebih mudah untuk dikembangkan. \n",
        "4. **Dynamic Semantics** Python secara otomatis akan menyesuaikan tipe dari suatu variable berdasarkan inputnya.\n",
        "\n"
      ]
    },
    {
      "cell_type": "markdown",
      "metadata": {
        "id": "5-y4LdyQijC-"
      },
      "source": [
        "# Mengapa Python?"
      ]
    },
    {
      "cell_type": "markdown",
      "metadata": {
        "id": "ndH1fAEqiqJJ"
      },
      "source": [
        "\n",
        "\n",
        "1.   Mudah dipahami\n",
        "2.   Gratis & Open Source \n",
        "3. Dinamis \n",
        "4. Memiliki Library Terlengkap untuk Data Sains \n",
        "\n"
      ]
    },
    {
      "cell_type": "markdown",
      "metadata": {
        "id": "tzZBfoE9jB-g"
      },
      "source": [
        "# Struktur Program Pada Python "
      ]
    },
    {
      "cell_type": "markdown",
      "metadata": {
        "id": "LKsNpLwkjIcS"
      },
      "source": [
        "Python pada umumnya terdiri dari:\n",
        "\n",
        "**1. Statements**"
      ]
    },
    {
      "cell_type": "code",
      "metadata": {
        "colab": {
          "base_uri": "https://localhost:8080/"
        },
        "id": "MrGdEB1jjaWp",
        "outputId": "69bbb4e8-a710-473f-9959-2d06e2bb0217"
      },
      "source": [
        "print(\"belajar python menyenangkan\")\n",
        "print (\"halo dunia\")"
      ],
      "execution_count": null,
      "outputs": [
        {
          "output_type": "stream",
          "name": "stdout",
          "text": [
            "belajar python menyenangkan\n",
            "halo dunia\n"
          ]
        }
      ]
    },
    {
      "cell_type": "markdown",
      "metadata": {
        "id": "4tWdZaoJjtRu"
      },
      "source": [
        "**2. Variables**"
      ]
    },
    {
      "cell_type": "code",
      "metadata": {
        "id": "7SDW3bVoj3Xq"
      },
      "source": [
        "bilangan1 = 5\n",
        "bilangan2 = 10\n",
        "kalimat = \"Pejuang Data 3\""
      ],
      "execution_count": null,
      "outputs": []
    },
    {
      "cell_type": "markdown",
      "metadata": {
        "id": "pzQOCxoAkLa2"
      },
      "source": [
        "**3. Literals:** Simbol-simbol yang dapat kita gunakan untuk mengisi suatu variabel."
      ]
    },
    {
      "cell_type": "markdown",
      "metadata": {
        "id": "XZucEKzhk-sy"
      },
      "source": [
        "**4. Operators:** Simbol-simbol yang dapat digunakan untuk mengubah nilai dari satu variabel dengan melibatkan satu atau lebih variabel dan literal."
      ]
    },
    {
      "cell_type": "code",
      "metadata": {
        "colab": {
          "base_uri": "https://localhost:8080/"
        },
        "id": "EXdq2gAyldkI",
        "outputId": "8cfa8c41-d06d-4e85-df0c-57d0049f44a2"
      },
      "source": [
        "bilangan1 + bilangan2"
      ],
      "execution_count": null,
      "outputs": [
        {
          "output_type": "execute_result",
          "data": {
            "text/plain": [
              "15"
            ]
          },
          "metadata": {},
          "execution_count": 5
        }
      ]
    },
    {
      "cell_type": "markdown",
      "metadata": {
        "id": "J50mHf-Hn7mz"
      },
      "source": [
        "**5. Reserved Words:** Kumpulan kata-kata yang memiliki makna khusus dalam bahasa pemrograman Python. Kata False, return, dan For merupakan contoh dari reserved words."
      ]
    },
    {
      "cell_type": "markdown",
      "metadata": {
        "id": "afvc8cueodlR"
      },
      "source": [
        "**6. Whitespace:** Pada bahasa Python, spasi dan tab memiliki makna khusus untuk menandai serangkaian blok dalam kode Python."
      ]
    },
    {
      "cell_type": "markdown",
      "metadata": {
        "id": "6TDYdodfo3bS"
      },
      "source": [
        "**7. Comments:** Comments merupakan sekumpulan teks yang dituliskan di dalam sebuah program yang tidak akan mempengaruhi hasil dari sebuah program."
      ]
    },
    {
      "cell_type": "markdown",
      "metadata": {
        "id": "5BUZrZ2UpcpK"
      },
      "source": [
        "Terdapat dua jenis comments di dalam Python, yaitu:"
      ]
    },
    {
      "cell_type": "markdown",
      "metadata": {
        "id": "ogSiBg_-pm9I"
      },
      "source": [
        "**a. Single line comment** (comments dalam satu baris) seperti pada contoh berikut:"
      ]
    },
    {
      "cell_type": "code",
      "metadata": {
        "colab": {
          "base_uri": "https://localhost:8080/"
        },
        "id": "jQBbx28FqG7_",
        "outputId": "6d6dbac0-ddee-4d2e-c53f-1b8e538a583c"
      },
      "source": [
        "# Ini adalah Comment \n",
        "print (\"belajar Python\")"
      ],
      "execution_count": null,
      "outputs": [
        {
          "output_type": "stream",
          "name": "stdout",
          "text": [
            "belajar Python\n"
          ]
        }
      ]
    },
    {
      "cell_type": "markdown",
      "metadata": {
        "id": "ApiByO-_qSQI"
      },
      "source": [
        "**b. multi line comment** (comments dalam beberapa baris) yang dapat dituliskan seperti pada contoh berikut:"
      ]
    },
    {
      "cell_type": "code",
      "metadata": {
        "colab": {
          "base_uri": "https://localhost:8080/"
        },
        "id": "21i1X3ARqohL",
        "outputId": "0a6819d0-60bc-47ab-b204-13f73b452061"
      },
      "source": [
        "'''\n",
        "Ini adalah komentar panjang \n",
        "Bisa digunakan untuk memberikan penjelasan panjang pada Sell Kode Python,\n",
        "Misal dokumentasi program, spesifikasi \n",
        "input output atau lainnya\n",
        "'''\n",
        "\n",
        "print(\"Belajar Python Menyenangkan\")"
      ],
      "execution_count": null,
      "outputs": [
        {
          "output_type": "stream",
          "name": "stdout",
          "text": [
            "Belajar Python Menyenangkan\n"
          ]
        }
      ]
    }
  ]
}