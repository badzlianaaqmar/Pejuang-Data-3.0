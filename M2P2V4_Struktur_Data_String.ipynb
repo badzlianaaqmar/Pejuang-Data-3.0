{
  "nbformat": 4,
  "nbformat_minor": 0,
  "metadata": {
    "colab": {
      "name": "M2P2V4_Struktur_Data_String.ipynb",
      "provenance": [],
      "collapsed_sections": []
    },
    "kernelspec": {
      "name": "python3",
      "display_name": "Python 3"
    },
    "language_info": {
      "name": "python"
    }
  },
  "cells": [
    {
      "cell_type": "markdown",
      "metadata": {
        "id": "n-mcMC5c5QqT"
      },
      "source": [
        "## String"
      ]
    },
    {
      "cell_type": "markdown",
      "metadata": {
        "id": "wAtjYPO35V4o"
      },
      "source": [
        "String di deklarasikan dengan di apit oleh tanda petik"
      ]
    },
    {
      "cell_type": "code",
      "metadata": {
        "colab": {
          "base_uri": "https://localhost:8080/"
        },
        "id": "z4RMxTgW5ffo",
        "outputId": "62c3dccc-f67a-4019-e0bd-95f63c7fec7e"
      },
      "source": [
        "# Menampilkan string dengan fungsi print()\n",
        "print(\"Hello World!\")"
      ],
      "execution_count": 1,
      "outputs": [
        {
          "output_type": "stream",
          "name": "stdout",
          "text": [
            "Hello World!\n"
          ]
        }
      ]
    },
    {
      "cell_type": "code",
      "metadata": {
        "colab": {
          "base_uri": "https://localhost:8080/"
        },
        "id": "Y4eTq8X95ucP",
        "outputId": "7469a42a-bbf2-4d69-a368-1050340d50c8"
      },
      "source": [
        "# Membuat variabel bertipe string \n",
        "A = \" Belajar Struktur data string \"\n",
        "print(A)"
      ],
      "execution_count": 13,
      "outputs": [
        {
          "output_type": "stream",
          "name": "stdout",
          "text": [
            " Belajar Struktur data string \n"
          ]
        }
      ]
    },
    {
      "cell_type": "code",
      "metadata": {
        "colab": {
          "base_uri": "https://localhost:8080/"
        },
        "id": "YB0DA88957in",
        "outputId": "2a87ea85-ca8f-4b1d-8c60-2f8d0056bb80"
      },
      "source": [
        "# Membuat Variabel string multi-line dengan 3 tanda petik\n",
        "B = \"\"\"Belajar Python\n",
        "Pejuang data 3.0\n",
        "PSDS\n",
        "String\"\"\"\n",
        "print(B)"
      ],
      "execution_count": 5,
      "outputs": [
        {
          "output_type": "stream",
          "name": "stdout",
          "text": [
            "Belajar Python\n",
            "Pejuang data 3.0\n",
            "PSDS\n",
            "String\n"
          ]
        }
      ]
    },
    {
      "cell_type": "code",
      "metadata": {
        "colab": {
          "base_uri": "https://localhost:8080/"
        },
        "id": "B4XL0P986ZMZ",
        "outputId": "84449c2f-0604-4cac-acc5-d96baccc9c76"
      },
      "source": [
        "# Menampilkan karakter tertentu dalam string\n",
        "print(A[2])"
      ],
      "execution_count": 7,
      "outputs": [
        {
          "output_type": "stream",
          "name": "stdout",
          "text": [
            "l\n"
          ]
        }
      ]
    },
    {
      "cell_type": "code",
      "metadata": {
        "colab": {
          "base_uri": "https://localhost:8080/"
        },
        "id": "iqgO4CAM6mgC",
        "outputId": "5a3367a8-76c8-45a8-acd4-e90dd062cba3"
      },
      "source": [
        "# Slicing pada String \n",
        "A = \"Belajar Struktur data string \"\n",
        "print(A[:5])\n",
        "print(A[3:])\n",
        "print(A[-5:])\n",
        "print(A[4:9])"
      ],
      "execution_count": 8,
      "outputs": [
        {
          "output_type": "stream",
          "name": "stdout",
          "text": [
            "Belaj\n",
            "ajar Struktur data string \n",
            "ring \n",
            "jar S\n"
          ]
        }
      ]
    },
    {
      "cell_type": "markdown",
      "metadata": {
        "id": "YyOX_OiJ8Y_X"
      },
      "source": [
        "### Latihan 1"
      ]
    },
    {
      "cell_type": "code",
      "metadata": {
        "id": "-yzuPzfp8cKn"
      },
      "source": [
        "# Buatlah variabel string lalu lakukan slicing dengan menghilangkan karakter pertama dan terakhir "
      ],
      "execution_count": null,
      "outputs": []
    },
    {
      "cell_type": "code",
      "metadata": {
        "colab": {
          "base_uri": "https://localhost:8080/"
        },
        "id": "7hjraC098o1d",
        "outputId": "4caa19b4-d687-408c-921e-cd183cf4dc0f"
      },
      "source": [
        "B =\"Matematika ilmu yang menyenangkan\"\n",
        "print(B[1:])\n",
        "print(B[:32])"
      ],
      "execution_count": 9,
      "outputs": [
        {
          "output_type": "stream",
          "name": "stdout",
          "text": [
            "atematika ilmu yang menyenangkan\n",
            "Matematika ilmu yang menyenangka\n"
          ]
        }
      ]
    },
    {
      "cell_type": "markdown",
      "metadata": {
        "id": "iD2QC2FY9kDy"
      },
      "source": [
        "### Memodifikasi String "
      ]
    },
    {
      "cell_type": "code",
      "metadata": {
        "colab": {
          "base_uri": "https://localhost:8080/",
          "height": 35
        },
        "id": "cM-_fuyA90zb",
        "outputId": "5ac8e432-0a1d-49c9-b3e0-777195f8a7be"
      },
      "source": [
        "# upper()\n",
        "A.upper()"
      ],
      "execution_count": 14,
      "outputs": [
        {
          "output_type": "execute_result",
          "data": {
            "application/vnd.google.colaboratory.intrinsic+json": {
              "type": "string"
            },
            "text/plain": [
              "' BELAJAR STRUKTUR DATA STRING '"
            ]
          },
          "metadata": {},
          "execution_count": 14
        }
      ]
    },
    {
      "cell_type": "code",
      "metadata": {
        "colab": {
          "base_uri": "https://localhost:8080/",
          "height": 35
        },
        "id": "LM5Bg8yS-E3-",
        "outputId": "d971f7cf-a3fa-40d1-df01-3a031a86db77"
      },
      "source": [
        "# lower ()\n",
        "A.lower()"
      ],
      "execution_count": 15,
      "outputs": [
        {
          "output_type": "execute_result",
          "data": {
            "application/vnd.google.colaboratory.intrinsic+json": {
              "type": "string"
            },
            "text/plain": [
              "' belajar struktur data string '"
            ]
          },
          "metadata": {},
          "execution_count": 15
        }
      ]
    },
    {
      "cell_type": "code",
      "metadata": {
        "colab": {
          "base_uri": "https://localhost:8080/",
          "height": 35
        },
        "id": "fLZV26zX-Qpu",
        "outputId": "1be1cb2a-c83f-42a3-b523-871680009500"
      },
      "source": [
        "# strip()\n",
        "A.strip()"
      ],
      "execution_count": 16,
      "outputs": [
        {
          "output_type": "execute_result",
          "data": {
            "application/vnd.google.colaboratory.intrinsic+json": {
              "type": "string"
            },
            "text/plain": [
              "'Belajar Struktur data string'"
            ]
          },
          "metadata": {},
          "execution_count": 16
        }
      ]
    },
    {
      "cell_type": "code",
      "metadata": {
        "colab": {
          "base_uri": "https://localhost:8080/",
          "height": 35
        },
        "id": "7E0TuxZQ-WYm",
        "outputId": "2d5b2baf-5873-49cd-c268-dfecb9505823"
      },
      "source": [
        "# replace()\n",
        "A.replace('l', 'd')"
      ],
      "execution_count": 17,
      "outputs": [
        {
          "output_type": "execute_result",
          "data": {
            "application/vnd.google.colaboratory.intrinsic+json": {
              "type": "string"
            },
            "text/plain": [
              "' Bedajar Struktur data string '"
            ]
          },
          "metadata": {},
          "execution_count": 17
        }
      ]
    },
    {
      "cell_type": "code",
      "metadata": {
        "colab": {
          "base_uri": "https://localhost:8080/"
        },
        "id": "xTuhO2Pd-hoQ",
        "outputId": "17c63e03-5f11-4b15-c3ae-172f0cc6b887"
      },
      "source": [
        "# split()\n",
        "A.split()"
      ],
      "execution_count": 18,
      "outputs": [
        {
          "output_type": "execute_result",
          "data": {
            "text/plain": [
              "['Belajar', 'Struktur', 'data', 'string']"
            ]
          },
          "metadata": {},
          "execution_count": 18
        }
      ]
    },
    {
      "cell_type": "markdown",
      "metadata": {
        "id": "Ay5FIvw8-o47"
      },
      "source": [
        "### Menggabungkan String"
      ]
    },
    {
      "cell_type": "code",
      "metadata": {
        "colab": {
          "base_uri": "https://localhost:8080/",
          "height": 35
        },
        "id": "tJakV-Au-4IE",
        "outputId": "9e485738-0d19-439f-c2f1-4532749b5821"
      },
      "source": [
        "A = \"Belajar Struktur data string\"\n",
        "B = \"Pejuang Data 3.0\"\n",
        "A + \" \" + B"
      ],
      "execution_count": 19,
      "outputs": [
        {
          "output_type": "execute_result",
          "data": {
            "application/vnd.google.colaboratory.intrinsic+json": {
              "type": "string"
            },
            "text/plain": [
              "'Belajar Struktur data string Pejuang Data 3.0'"
            ]
          },
          "metadata": {},
          "execution_count": 19
        }
      ]
    },
    {
      "cell_type": "markdown",
      "metadata": {
        "id": "g7xIpOLe_Kkt"
      },
      "source": [
        "### Latihan 2"
      ]
    },
    {
      "cell_type": "code",
      "metadata": {
        "id": "3LQKmoed_OOi"
      },
      "source": [
        "# Ganti semua vokal menjadi \"i\" pada string yang telah kalian buat pada latihan 1"
      ],
      "execution_count": null,
      "outputs": []
    },
    {
      "cell_type": "code",
      "metadata": {
        "id": "vRyhY_WJ_X65"
      },
      "source": [
        "B = \"Matematika ilmu yang menyenangkan\""
      ],
      "execution_count": 21,
      "outputs": []
    },
    {
      "cell_type": "code",
      "metadata": {
        "colab": {
          "base_uri": "https://localhost:8080/",
          "height": 35
        },
        "id": "mk4h1ugA_rL4",
        "outputId": "0a563391-2c99-4074-c7e8-551bfc19005a"
      },
      "source": [
        "B.replace('a', 'i')"
      ],
      "execution_count": 22,
      "outputs": [
        {
          "output_type": "execute_result",
          "data": {
            "application/vnd.google.colaboratory.intrinsic+json": {
              "type": "string"
            },
            "text/plain": [
              "'Mitemitiki ilmu ying menyeningkin'"
            ]
          },
          "metadata": {},
          "execution_count": 22
        }
      ]
    },
    {
      "cell_type": "code",
      "metadata": {
        "colab": {
          "base_uri": "https://localhost:8080/",
          "height": 35
        },
        "id": "QPMZIH7a_-e8",
        "outputId": "6576b12b-370e-457b-f475-b3d461cabb44"
      },
      "source": [
        "B.replace('e', 'i')"
      ],
      "execution_count": 23,
      "outputs": [
        {
          "output_type": "execute_result",
          "data": {
            "application/vnd.google.colaboratory.intrinsic+json": {
              "type": "string"
            },
            "text/plain": [
              "'Matimatika ilmu yang minyinangkan'"
            ]
          },
          "metadata": {},
          "execution_count": 23
        }
      ]
    },
    {
      "cell_type": "code",
      "metadata": {
        "colab": {
          "base_uri": "https://localhost:8080/",
          "height": 35
        },
        "id": "8qbnWZbUAG9Q",
        "outputId": "6f6670cb-bb47-4ad2-e64c-6546f4114712"
      },
      "source": [
        "B.replace('u', 'i')"
      ],
      "execution_count": 24,
      "outputs": [
        {
          "output_type": "execute_result",
          "data": {
            "application/vnd.google.colaboratory.intrinsic+json": {
              "type": "string"
            },
            "text/plain": [
              "'Matematika ilmi yang menyenangkan'"
            ]
          },
          "metadata": {},
          "execution_count": 24
        }
      ]
    }
  ]
}