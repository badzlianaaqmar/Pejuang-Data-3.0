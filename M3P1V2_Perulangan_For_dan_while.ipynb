{
  "nbformat": 4,
  "nbformat_minor": 0,
  "metadata": {
    "colab": {
      "name": "M3P1V2_Perulangan_For_dan_while.ipynb",
      "provenance": [],
      "collapsed_sections": []
    },
    "kernelspec": {
      "name": "python3",
      "display_name": "Python 3"
    },
    "language_info": {
      "name": "python"
    }
  },
  "cells": [
    {
      "cell_type": "markdown",
      "metadata": {
        "id": "bY27X2VQIRsb"
      },
      "source": [
        "##**Looping/Perulangan**"
      ]
    },
    {
      "cell_type": "markdown",
      "metadata": {
        "id": "rhS_fiepIgVn"
      },
      "source": [
        "Python menyediakan dua statement untuk melakukan proses perulangan yaitu for dan while. Diantara kedua statement ini, secara umum for lebih banyak digunakan daripada while."
      ]
    },
    {
      "cell_type": "markdown",
      "metadata": {
        "id": "dJAvXPy-I3ey"
      },
      "source": [
        "##For Loop"
      ]
    },
    {
      "cell_type": "markdown",
      "metadata": {
        "id": "G1kXxnMuI6nw"
      },
      "source": [
        "Perulangan  ```for ``` digunakan untuk melakukan iterasi di dalam  ```sequence``` sperti ```list ```, ```tuple```, ```string```, dan  ```array``` atau objek yang dapat diiterasi lainnya\n",
        "\n",
        "**For Loop Syntax**\n",
        "\n",
        "\n",
        "```\n",
        "for val in sequence:\n",
        "    loop body\n",
        "```\n",
        "\n",
        "\n",
        "\n",
        "\n",
        "\n",
        "\n",
        "\n",
        "\n",
        "\n"
      ]
    },
    {
      "cell_type": "markdown",
      "metadata": {
        "id": "_mAFWmpMKbui"
      },
      "source": [
        "**For Loop Flowchart**\n",
        "\n",
        "![r-for-loop.jpg](data:image/jpeg;base64,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)"
      ]
    },
    {
      "cell_type": "markdown",
      "metadata": {
        "id": "nym5eQI7LMXv"
      },
      "source": [
        "**Example: Python for Loop**"
      ]
    },
    {
      "cell_type": "code",
      "metadata": {
        "colab": {
          "base_uri": "https://localhost:8080/"
        },
        "id": "i5HrZxvYLTNd",
        "outputId": "0ca22641-50de-48cd-c9c3-de13cb07137e"
      },
      "source": [
        "# Program untuk menghitung jumlah semua angka dalam sebuah list \n",
        "L1 = [2, 4, 5, 7, 9]\n",
        "jumlah = 0\n",
        "\n",
        "# iterasi di dalam list \n",
        "for i in L1:\n",
        "  jumlah = jumlah + i\n",
        "\n",
        "print(jumlah)"
      ],
      "execution_count": null,
      "outputs": [
        {
          "output_type": "stream",
          "name": "stdout",
          "text": [
            "27\n"
          ]
        }
      ]
    },
    {
      "cell_type": "markdown",
      "metadata": {
        "id": "hFdjBirpL0sW"
      },
      "source": [
        "###**The range () function**"
      ]
    },
    {
      "cell_type": "code",
      "metadata": {
        "colab": {
          "base_uri": "https://localhost:8080/"
        },
        "id": "53wB2Es1MBEw",
        "outputId": "899e2d5c-3de0-49c1-df6f-697022de98cd"
      },
      "source": [
        "# Program untuk melakukan iterasi di dalam list melalui indeks \n",
        "minuman = [\"teh\", \"boba\", \"kopi\", \"susu\"]\n",
        "p = len(minuman)\n",
        "\n",
        "# iterasi di dalam list melalui indeks\n",
        "for i in range(p):\n",
        "  print(minuman[i])"
      ],
      "execution_count": null,
      "outputs": [
        {
          "output_type": "stream",
          "name": "stdout",
          "text": [
            "teh\n",
            "boba\n",
            "kopi\n",
            "susu\n"
          ]
        }
      ]
    },
    {
      "cell_type": "markdown",
      "metadata": {
        "id": "EgEd6MILMnWN"
      },
      "source": [
        "### **for loop with else**"
      ]
    },
    {
      "cell_type": "code",
      "metadata": {
        "colab": {
          "base_uri": "https://localhost:8080/"
        },
        "id": "T2Qkttx-Mmlw",
        "outputId": "f8349c93-313d-46c9-da72-65797dab0289"
      },
      "source": [
        "#contoh for loop menggunakan else \n",
        "for i in range(p):\n",
        "  print(minuman[i])\n",
        "else:\n",
        "  print(\"Elemen sudah habis\")"
      ],
      "execution_count": null,
      "outputs": [
        {
          "output_type": "stream",
          "name": "stdout",
          "text": [
            "teh\n",
            "boba\n",
            "kopi\n",
            "susu\n",
            "Elemen sudah habis\n"
          ]
        }
      ]
    },
    {
      "cell_type": "markdown",
      "metadata": {
        "id": "_yKywLfjM-Jf"
      },
      "source": [
        "###Latihan 1"
      ]
    },
    {
      "cell_type": "markdown",
      "metadata": {
        "id": "-tp5EGx9NHew"
      },
      "source": [
        "Diberikan ``` list_tagihan ```. Kamu diminta untuk menghitung jumlah seluruh tagihan. Gunakan looping ```for``` untuk menyelesaikan tugas ini! simpan hasilnya pada variabel ```total_tagihan```!\n",
        "\n",
        "\n",
        "```\n",
        "list_tagihan = [50000, 75000, -150000, 125000, 300000, -50000, 200000]\n",
        "```"
      ]
    },
    {
      "cell_type": "code",
      "metadata": {
        "id": "Aq-DpNovOFRp"
      },
      "source": [
        "# tuliskan code kalian "
      ],
      "execution_count": null,
      "outputs": []
    },
    {
      "cell_type": "code",
      "metadata": {
        "colab": {
          "base_uri": "https://localhost:8080/"
        },
        "id": "iAlsWKiMjXV2",
        "outputId": "f5134f5d-11be-45b9-ab0a-2196b1b9329c"
      },
      "source": [
        "list_tagihan = [50000, 75000, -150000, 125000, 300000, -50000, 200000]\n",
        "jumlah = 0\n",
        "\n",
        "for i in list_tagihan:\n",
        "  jumlah = jumlah + i\n",
        "\n",
        "print(jumlah)"
      ],
      "execution_count": null,
      "outputs": [
        {
          "output_type": "stream",
          "name": "stdout",
          "text": [
            "550000\n"
          ]
        }
      ]
    },
    {
      "cell_type": "markdown",
      "metadata": {
        "id": "_dOWF7bHPQt0"
      },
      "source": [
        "### While Loop"
      ]
    },
    {
      "cell_type": "markdown",
      "metadata": {
        "id": "6FX7AdnVPUq4"
      },
      "source": [
        "While loop pada Python digunakan untuk melakukan iterasi pada blok kode sebelum nilai dari ```test expression``` adalah ```true```.\n",
        "\n",
        "**Syntax of while Loop in Python \n",
        "\n",
        "```\n",
        "while test_expression:\n",
        "        Body of while\n",
        "```\n",
        "\n"
      ]
    },
    {
      "cell_type": "markdown",
      "metadata": {
        "id": "AiSnZjH3QDL9"
      },
      "source": [
        "**While Loop Flowchart** \n",
        "\n",
        "![python-while-loop-flow-chart.jpg](data:image/jpeg;base64,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)"
      ]
    },
    {
      "cell_type": "markdown",
      "metadata": {
        "id": "7kGO4BmbQp9T"
      },
      "source": [
        "**Example: Python while Loop**"
      ]
    },
    {
      "cell_type": "code",
      "metadata": {
        "colab": {
          "base_uri": "https://localhost:8080/"
        },
        "id": "ojXwlLulQ6kO",
        "outputId": "c974b01c-2137-4e3d-dcad-58c5dccbe563"
      },
      "source": [
        "# Program untuk menjumlahkan semua \n",
        "# bilangan asli hingga suku ke-n\n",
        "# jum = 1+2+3+...+n\n",
        "\n",
        "n = 10\n",
        "jumlah = 0\n",
        "i = 1\n",
        "\n",
        "while i <= n:\n",
        "  jumlah = jumlah + i\n",
        "  i = i + 1\n",
        "\n",
        "print(jumlah)"
      ],
      "execution_count": null,
      "outputs": [
        {
          "output_type": "stream",
          "name": "stdout",
          "text": [
            "55\n"
          ]
        }
      ]
    },
    {
      "cell_type": "markdown",
      "metadata": {
        "id": "DcEPNW4pRYdN"
      },
      "source": [
        "### **While loop with else**\n",
        "\n",
        "Sama dengan ```for``` loop kita juga dapat mengkombinasikan ```while``` loop dengan blok ```else```. \n",
        "\n",
        "Bagian ```else``` akan dieksekusikan jika nilai pada ```test expression pada``` pada ```while loop``` bernilai ```False```. Perhatikan contoh berikut:"
      ]
    },
    {
      "cell_type": "code",
      "metadata": {
        "colab": {
          "base_uri": "https://localhost:8080/"
        },
        "id": "hBeYIAHzSJyz",
        "outputId": "854fa468-db62-404b-a019-d51880140bd1"
      },
      "source": [
        "jum = 0\n",
        "i = 1\n",
        "while i <= n:\n",
        "  jum = jum + i\n",
        "  i = i + 1\n",
        "else:\n",
        "  print(jum) # dieksekusi diluar looping"
      ],
      "execution_count": null,
      "outputs": [
        {
          "output_type": "stream",
          "name": "stdout",
          "text": [
            "55\n"
          ]
        }
      ]
    },
    {
      "cell_type": "markdown",
      "metadata": {
        "id": "YXwTYBP9SfYi"
      },
      "source": [
        "### Latihan 2"
      ]
    },
    {
      "cell_type": "markdown",
      "metadata": {
        "id": "Fr4Ug4NNSmz7"
      },
      "source": [
        "Diberikan list ```tagihan``` hitunglah ```total_tagihan``` menggunakan ```while loop```.\n",
        "\n",
        "```\n",
        "tagihan = [50000, 75000, 125000, 300000, 200000]\n",
        "```\n",
        "\n"
      ]
    },
    {
      "cell_type": "code",
      "metadata": {
        "id": "3WmyFVNkTE2o"
      },
      "source": [
        "# Tuliskan kodemu\n",
        "\n",
        "tagihan = [50000, 75000, 125000, 300000, 200000]"
      ],
      "execution_count": null,
      "outputs": []
    },
    {
      "cell_type": "code",
      "metadata": {
        "colab": {
          "base_uri": "https://localhost:8080/"
        },
        "id": "A3Az0A4B-JNK",
        "outputId": "cf06cab1-8095-474a-c790-f377e64bd17a"
      },
      "source": [
        "x, jum, i=0,0,0\n",
        "\n",
        "x = int(input())\n",
        "while x != 200000:\n",
        "  i += 200000\n",
        "  jum += x\n",
        "  x = int(input())\n",
        "\n",
        "print(\"total tagihan:\", jum)"
      ],
      "execution_count": 7,
      "outputs": [
        {
          "output_type": "stream",
          "name": "stdout",
          "text": [
            "50000\n",
            "75000\n",
            "125000\n",
            "300000\n",
            "200000\n",
            "total tagihan: 550000\n"
          ]
        }
      ]
    }
  ]
}